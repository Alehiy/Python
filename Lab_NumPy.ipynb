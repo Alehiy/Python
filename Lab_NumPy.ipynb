{
 "cells": [
  {
   "cell_type": "code",
   "execution_count": 1,
   "metadata": {
    "_cell_guid": "b1076dfc-b9ad-4769-8c92-a6c4dae69d19",
    "_uuid": "8f2839f25d086af736a60e9eeb907d3b93b6e0e5",
    "execution": {
     "iopub.execute_input": "2021-12-15T23:46:04.306764Z",
     "iopub.status.busy": "2021-12-15T23:46:04.306037Z",
     "iopub.status.idle": "2021-12-15T23:46:04.329579Z",
     "shell.execute_reply": "2021-12-15T23:46:04.328387Z",
     "shell.execute_reply.started": "2021-12-15T23:46:04.306647Z"
    }
   },
   "outputs": [],
   "source": [
    "import numpy as np\n"
   ]
  },
  {
   "cell_type": "code",
   "execution_count": 42,
   "metadata": {
    "execution": {
     "iopub.execute_input": "2021-12-15T23:50:49.990747Z",
     "iopub.status.busy": "2021-12-15T23:50:49.989911Z",
     "iopub.status.idle": "2021-12-15T23:50:56.036477Z",
     "shell.execute_reply": "2021-12-15T23:50:56.035697Z",
     "shell.execute_reply.started": "2021-12-15T23:50:49.990706Z"
    }
   },
   "outputs": [
    {
     "name": "stdout",
     "output_type": "stream",
     "text": [
      "[[1 0 0 0 0]\n",
      " [0 2 0 0 0]\n",
      " [0 0 3 0 0]\n",
      " [0 0 0 4 0]\n",
      " [0 0 0 0 5]]\n"
     ]
    }
   ],
   "source": [
    "#%%timeit\n",
    "#Вводиться число n. Вивести масив разміра nхn, в якому по \n",
    "#діагоналі йдуть числа від 1 до n, а інші числа рівні 0\n",
    "n=5\n",
    "Z = np.diag(1+np.arange(n))\n",
    "print(Z)\n"
   ]
  },
  {
   "cell_type": "code",
   "execution_count": 3,
   "metadata": {
    "execution": {
     "iopub.execute_input": "2021-12-15T23:50:59.605421Z",
     "iopub.status.busy": "2021-12-15T23:50:59.605163Z",
     "iopub.status.idle": "2021-12-15T23:51:05.325906Z",
     "shell.execute_reply": "2021-12-15T23:51:05.324934Z",
     "shell.execute_reply.started": "2021-12-15T23:50:59.605395Z"
    }
   },
   "outputs": [
    {
     "data": {
      "text/plain": [
       "[[1, 0, 0, 0, 0],\n",
       " [0, 2, 0, 0, 0],\n",
       " [0, 0, 3, 0, 0],\n",
       " [0, 0, 0, 4, 0],\n",
       " [0, 0, 0, 0, 5]]"
      ]
     },
     "execution_count": 3,
     "metadata": {},
     "output_type": "execute_result"
    }
   ],
   "source": [
    "#%%timeit\n",
    "n=5\n",
    "Z = [ [ 0 for i in range(n) ] for j in range(n) ]\n",
    "for i in range(0,n):\n",
    "    for j in range(0,n):\n",
    "        #Z[i,j]=0\n",
    "        if(i==j):\n",
    "            Z[i][j]=i+1\n",
    "Z"
   ]
  },
  {
   "cell_type": "code",
   "execution_count": 4,
   "metadata": {
    "execution": {
     "iopub.execute_input": "2021-12-15T23:51:42.018612Z",
     "iopub.status.busy": "2021-12-15T23:51:42.018337Z",
     "iopub.status.idle": "2021-12-15T23:51:46.698010Z",
     "shell.execute_reply": "2021-12-15T23:51:46.697123Z",
     "shell.execute_reply.started": "2021-12-15T23:51:42.018578Z"
    }
   },
   "outputs": [
    {
     "name": "stdout",
     "output_type": "stream",
     "text": [
      "[[0. 0. 0. 0. 0. 0. 0.]\n",
      " [0. 1. 1. 0. 1. 1. 0.]\n",
      " [0. 0. 0. 0. 0. 0. 0.]\n",
      " [0. 1. 1. 0. 1. 1. 0.]\n",
      " [0. 0. 0. 0. 0. 0. 0.]\n",
      " [0. 1. 1. 0. 1. 1. 0.]]\n"
     ]
    }
   ],
   "source": [
    "#%%timeit\n",
    "#Вводяться 4 числа n, m, r, c. Вивести масив розміру n на m, в \n",
    "#якому в кожному r -му рядку і в кожному c-му стовпчику стоять 0, а інші \n",
    "#елементи дорівнюють 1.\n",
    "n=6\n",
    "m=7\n",
    "r=2\n",
    "c=3\n",
    "Z=np.ones((n,m))\n",
    "Z[0::r,:] = 0\n",
    "Z[:,0::c] = 0\n",
    "print(Z)\n"
   ]
  },
  {
   "cell_type": "code",
   "execution_count": 5,
   "metadata": {
    "execution": {
     "iopub.execute_input": "2021-12-15T23:52:28.348950Z",
     "iopub.status.busy": "2021-12-15T23:52:28.348652Z",
     "iopub.status.idle": "2021-12-15T23:52:37.124352Z",
     "shell.execute_reply": "2021-12-15T23:52:37.123282Z",
     "shell.execute_reply.started": "2021-12-15T23:52:28.348917Z"
    }
   },
   "outputs": [
    {
     "data": {
      "text/plain": [
       "[[0, 0, 0, 0, 0, 0, 0],\n",
       " [0, 1, 1, 0, 1, 1, 0],\n",
       " [0, 0, 0, 0, 0, 0, 0],\n",
       " [0, 1, 1, 0, 1, 1, 0],\n",
       " [0, 0, 0, 0, 0, 0, 0],\n",
       " [0, 1, 1, 0, 1, 1, 0]]"
      ]
     },
     "execution_count": 5,
     "metadata": {},
     "output_type": "execute_result"
    }
   ],
   "source": [
    "#%%timeit\n",
    "n=6\n",
    "m=7\n",
    "r=2\n",
    "c=3\n",
    "Z1 = [ [ 1 for i in range(m) ] for j in range(n) ]\n",
    "for i in range(0,n,r):\n",
    "    for j in range(0,m):\n",
    "        Z1[i][j]=0\n",
    "for i in range(0,n):\n",
    "    for j in range(0,m,c):\n",
    "        Z1[i][j]=0\n",
    "Z1"
   ]
  },
  {
   "cell_type": "code",
   "execution_count": 6,
   "metadata": {
    "execution": {
     "iopub.execute_input": "2021-12-15T23:53:06.421776Z",
     "iopub.status.busy": "2021-12-15T23:53:06.421027Z",
     "iopub.status.idle": "2021-12-15T23:53:12.197432Z",
     "shell.execute_reply": "2021-12-15T23:53:12.196571Z",
     "shell.execute_reply.started": "2021-12-15T23:53:06.421729Z"
    }
   },
   "outputs": [
    {
     "name": "stdout",
     "output_type": "stream",
     "text": [
      "[-1 -1  0 -1 -1  0 -1  0 -1  0 -1]\n"
     ]
    }
   ],
   "source": [
    "#%%timeit\n",
    "#З клавіатури вводиться масив. Замінити всі ненульові елементи на -1.\n",
    "Z = np.array([3,4,0,9,7,0,6,0,4,0,3])\n",
    "Z[Z != 0 ] = -1\n",
    "print(Z)"
   ]
  },
  {
   "cell_type": "code",
   "execution_count": 7,
   "metadata": {
    "execution": {
     "iopub.execute_input": "2021-12-15T23:53:14.010267Z",
     "iopub.status.busy": "2021-12-15T23:53:14.009376Z",
     "iopub.status.idle": "2021-12-15T23:53:27.188276Z",
     "shell.execute_reply": "2021-12-15T23:53:27.187291Z",
     "shell.execute_reply.started": "2021-12-15T23:53:14.010217Z"
    }
   },
   "outputs": [
    {
     "data": {
      "text/plain": [
       "[-1, -1, 0, -1, -1, 0, -1, 0, -1, 0, -1]"
      ]
     },
     "execution_count": 7,
     "metadata": {},
     "output_type": "execute_result"
    }
   ],
   "source": [
    "#%%timeit\n",
    "Z1 = [3,4,0,9,7,0,6,0,4,0,3]\n",
    "for i in range(0,len(Z1)):\n",
    "    if(Z1[i]!=0):\n",
    "        Z1[i]=-1\n",
    "Z1"
   ]
  },
  {
   "cell_type": "code",
   "execution_count": 8,
   "metadata": {
    "execution": {
     "iopub.execute_input": "2021-12-15T22:11:20.394197Z",
     "iopub.status.busy": "2021-12-15T22:11:20.393737Z",
     "iopub.status.idle": "2021-12-15T22:11:20.407768Z",
     "shell.execute_reply": "2021-12-15T22:11:20.406974Z",
     "shell.execute_reply.started": "2021-12-15T22:11:20.394166Z"
    }
   },
   "outputs": [
    {
     "name": "stdout",
     "output_type": "stream",
     "text": [
      "[ 3  4 -1  6  5 -1  2 -1  4]\n"
     ]
    },
    {
     "data": {
      "text/plain": [
       "[3, 4, -1, 6, 5, -1, 2, -1, 4]"
      ]
     },
     "execution_count": 8,
     "metadata": {},
     "output_type": "execute_result"
    }
   ],
   "source": [
    "#З клавіатури вводиться масив. Замінити всі нульові елементи на -1.\n",
    "Z = np.array([3,4,0,6,5,0,2,0,4])\n",
    "Z[Z == 0 ] = -1\n",
    "print(Z)\n",
    "#//////////////////////////////////////\n",
    "Z1 = [3,4,0,6,5,0,2,0,4]\n",
    "for i in range(0,len(Z1)):\n",
    "    if(Z1[i]==0):\n",
    "        Z1[i]=-1\n",
    "Z1"
   ]
  },
  {
   "cell_type": "code",
   "execution_count": 9,
   "metadata": {
    "execution": {
     "iopub.execute_input": "2021-12-15T22:11:20.409481Z",
     "iopub.status.busy": "2021-12-15T22:11:20.408795Z",
     "iopub.status.idle": "2021-12-15T22:11:20.419943Z",
     "shell.execute_reply": "2021-12-15T22:11:20.419137Z",
     "shell.execute_reply.started": "2021-12-15T22:11:20.409445Z"
    }
   },
   "outputs": [
    {
     "name": "stdout",
     "output_type": "stream",
     "text": [
      "Нулей: 3\n",
      "Не нулей: 8\n",
      "Нулей: 3\n",
      "Не нулей: 8\n"
     ]
    }
   ],
   "source": [
    "#З клавіатури вводиться масив. Підрахувати в ньому кількість \n",
    "#нульових та ненульoвих елементів.\n",
    "Z = np.array([3,4,0,9,8,2,4,0,8,4,0])\n",
    "nz = np.count_nonzero(Z)\n",
    "n = Z.size - nz\n",
    "print(\"Нулей:\",n)\n",
    "print(\"Не нулей:\",nz)\n",
    "#//////////////////////////////////////\n",
    "Z1 = [3,4,0,9,8,2,4,0,8,4,0]\n",
    "count=0\n",
    "for i in range(0,len(Z1)):\n",
    "    if(Z1[i]==0):\n",
    "        count+=1\n",
    "print(\"Нулей:\",count)\n",
    "print(\"Не нулей:\",len(Z1)-count)"
   ]
  },
  {
   "cell_type": "code",
   "execution_count": 11,
   "metadata": {
    "execution": {
     "iopub.execute_input": "2021-12-15T22:11:20.422643Z",
     "iopub.status.busy": "2021-12-15T22:11:20.421954Z",
     "iopub.status.idle": "2021-12-15T22:11:20.444368Z",
     "shell.execute_reply": "2021-12-15T22:11:20.443436Z",
     "shell.execute_reply.started": "2021-12-15T22:11:20.422593Z"
    }
   },
   "outputs": [
    {
     "name": "stdout",
     "output_type": "stream",
     "text": [
      "[[0. 0. 0. 0. 0. 0. 0. 0. 0.]\n",
      " [0. 1. 1. 1. 1. 1. 1. 1. 0.]\n",
      " [0. 1. 1. 1. 1. 1. 1. 1. 0.]\n",
      " [0. 1. 1. 1. 1. 1. 1. 1. 0.]\n",
      " [0. 1. 1. 1. 1. 1. 1. 1. 0.]\n",
      " [0. 1. 1. 1. 1. 1. 1. 1. 0.]\n",
      " [0. 1. 1. 1. 1. 1. 1. 1. 0.]\n",
      " [0. 1. 1. 1. 1. 1. 1. 1. 0.]\n",
      " [0. 0. 0. 0. 0. 0. 0. 0. 0.]]\n"
     ]
    },
    {
     "data": {
      "text/plain": [
       "[[0, 0, 0, 0, 0, 0, 0, 0, 0],\n",
       " [0, 1, 1, 1, 1, 1, 1, 1, 0],\n",
       " [0, 1, 1, 1, 1, 1, 1, 1, 0],\n",
       " [0, 1, 1, 1, 1, 1, 1, 1, 0],\n",
       " [0, 1, 1, 1, 1, 1, 1, 1, 0],\n",
       " [0, 1, 1, 1, 1, 1, 1, 1, 0],\n",
       " [0, 1, 1, 1, 1, 1, 1, 1, 0],\n",
       " [0, 1, 1, 1, 1, 1, 1, 1, 0],\n",
       " [0, 0, 0, 0, 0, 0, 0, 0, 0]]"
      ]
     },
     "execution_count": 11,
     "metadata": {},
     "output_type": "execute_result"
    }
   ],
   "source": [
    "#Створити масив одиниць розміром n х n та додати до нього \n",
    "#«рамку», сформовану з 0.\n",
    "n=7\n",
    "Z = np.ones((n,n))\n",
    "Z = np.pad(Z, pad_width=1, mode='constant', constant_values=0)\n",
    "print(Z)\n",
    "#//////////////////////////////////////\n",
    "Z1 = [ [ 1 for i in range(n) ] for j in range(n) ]\n",
    "row_len = len(Z1)\n",
    "col_len = len(Z1[0])\n",
    "A = list()\n",
    "for j in range(col_len+2):  # Adding two more rows\n",
    "    if j == 0 or j == col_len + 1:\n",
    "        A.append([0] * (row_len + 2))  # First and last row is just zeroes\n",
    "    else:\n",
    "        A.append([0] + Z1[j - 1] + [0])  # Append a zero to the front and back of each row\n",
    "A"
   ]
  },
  {
   "cell_type": "code",
   "execution_count": 12,
   "metadata": {
    "execution": {
     "iopub.execute_input": "2021-12-15T22:11:20.446560Z",
     "iopub.status.busy": "2021-12-15T22:11:20.445923Z",
     "iopub.status.idle": "2021-12-15T22:11:20.458721Z",
     "shell.execute_reply": "2021-12-15T22:11:20.457535Z",
     "shell.execute_reply.started": "2021-12-15T22:11:20.446519Z"
    }
   },
   "outputs": [
    {
     "name": "stdout",
     "output_type": "stream",
     "text": [
      "[ 0  1  2  0  0  0  0  0  8  9 10]\n"
     ]
    },
    {
     "data": {
      "text/plain": [
       "[0, 1, 2, 0, 0, 0, 0, 0, 8, 9, 10]"
      ]
     },
     "execution_count": 12,
     "metadata": {},
     "output_type": "execute_result"
    }
   ],
   "source": [
    "#Заповнити вектор значеннями від 0 до n. Всі значення, що більші \n",
    "#за n/4 та менші за 3n/4 замінити нулями\n",
    "n=10\n",
    "Z = np.arange(n+1)\n",
    "Z[(Z>n/4)&(Z<3*n/4)]=0\n",
    "print(Z)\n",
    "#//////////////////////////////////////\n",
    "Z1 = [ i for i in range(n+1) ]\n",
    "for i in range(n+1):\n",
    "    if((Z1[i]>n/4) & (Z1[i]<3*n/4)):\n",
    "        Z1[i]=0\n",
    "Z1\n"
   ]
  },
  {
   "cell_type": "code",
   "execution_count": 16,
   "metadata": {
    "execution": {
     "iopub.execute_input": "2021-12-15T22:11:20.460430Z",
     "iopub.status.busy": "2021-12-15T22:11:20.459858Z",
     "iopub.status.idle": "2021-12-15T22:11:20.471942Z",
     "shell.execute_reply": "2021-12-15T22:11:20.471108Z",
     "shell.execute_reply.started": "2021-12-15T22:11:20.460397Z"
    }
   },
   "outputs": [
    {
     "name": "stdout",
     "output_type": "stream",
     "text": [
      "В последовательности:  [ 1  6  6  7  0 11  6  4]  -  6 уникальных значений\n",
      "В последовательности:  [12, 3, 1, 1, 2, 11, 3, 8]  -  6 уникальных значений\n"
     ]
    }
   ],
   "source": [
    "#Згенерувати вектор з n випадкових чисел в діапазоні від 0 до 99. \n",
    "#Визначити кількість унікальних чисел в послідовності\n",
    "n=8\n",
    "Z = np.random.randint(15, size=n)\n",
    "print(\"В последовательности: \",Z,\" - \",len(np.unique(Z)),\"уникальных значений\")\n",
    "#//////////////////////////////////////\n",
    "import random\n",
    "low = 0\n",
    "high = 15\n",
    "cols = n\n",
    "rows = 1\n",
    "Z1 = [random.choices(range(low,high), k=cols) for _ in range(rows)]\n",
    "Z2=Z1[0].copy()\n",
    "Z2.sort()\n",
    "Z3 = []\n",
    "for i in range(0,(len(Z2))-1):\n",
    "    if(Z2[i]!=Z2[i+1]):\n",
    "        Z3.append(Z2[i])\n",
    "Z3.append(Z2[n-1])\n",
    "\n",
    "print(\"В последовательности: \",Z1[0],\" - \",len(Z3),\"уникальных значений\")\n"
   ]
  },
  {
   "cell_type": "code",
   "execution_count": 17,
   "metadata": {
    "execution": {
     "iopub.execute_input": "2021-12-15T22:23:19.708522Z",
     "iopub.status.busy": "2021-12-15T22:23:19.708247Z",
     "iopub.status.idle": "2021-12-15T22:23:19.718448Z",
     "shell.execute_reply": "2021-12-15T22:23:19.717543Z",
     "shell.execute_reply.started": "2021-12-15T22:23:19.708493Z"
    }
   },
   "outputs": [
    {
     "name": "stdout",
     "output_type": "stream",
     "text": [
      "[0.091 0.182 0.273 0.364 0.455 0.545 0.636 0.727 0.818 0.909]\n"
     ]
    },
    {
     "data": {
      "text/plain": [
       "[0.01, 0.11, 0.21, 0.31, 0.41, 0.51, 0.61, 0.71, 0.81, 0.91]"
      ]
     },
     "execution_count": 17,
     "metadata": {},
     "output_type": "execute_result"
    }
   ],
   "source": [
    "#Згенерувати вектор із n елементів, що рівномірно розміщені на \n",
    "#інтервалі (0,1) – тобто обидва кінці інтервалу не включені. Значення вивести \n",
    "#до 3 знаків після коми.\n",
    "n=10\n",
    "m=100//n\n",
    "Z = np.linspace(0.0,1.0,n+1,endpoint = False)[1:]\n",
    "Z=np.sort(Z)\n",
    "print(np.round(Z,3))\n",
    "#/////////////////////////////////////////////////\n",
    "result = [x / 100 for x in range(1, 100, m)]\n",
    "result"
   ]
  },
  {
   "cell_type": "code",
   "execution_count": 19,
   "metadata": {
    "execution": {
     "iopub.execute_input": "2021-12-15T22:11:20.624085Z",
     "iopub.status.busy": "2021-12-15T22:11:20.623372Z",
     "iopub.status.idle": "2021-12-15T22:11:20.629696Z",
     "shell.execute_reply": "2021-12-15T22:11:20.629118Z",
     "shell.execute_reply.started": "2021-12-15T22:11:20.624049Z"
    }
   },
   "outputs": [
    {
     "data": {
      "text/latex": [
       "$$\\begin{cases} x_1 + 2x_2 + 3x_3 + 4x_4 = 5 \\\\ 2x_1 + x_2 + 2x_3 + 3x_4 = 1 \\\\ 3x_1 + 2x_2 + x_3 + 2x_4 = 1 \\\\ 4x_1 + 3x_2 + 2x_3 + x_4 = -5 \\end{cases} $$\n",
       "$ Розв’язати \\ систему \\ за \\ допомогою \\ формул \\ Крамера \\ і \\ виконати \\ перевірку \\ за \\ допомогою:\n",
       " \\\\ a) \\ матричного \\ множення;\n",
       " \\\\ b) \\ оберненої \\ матриці; \n",
       " \\\\c) \\ функції \\ numpy.linalg.solve().\\\\\n",
       "Порівняти \\ всі \\ рішення \\ за \\ допомогою \\ функції \\ numpy.allclose()$\n"
      ],
      "text/plain": [
       "<IPython.core.display.Latex object>"
      ]
     },
     "metadata": {},
     "output_type": "display_data"
    }
   ],
   "source": [
    "%%latex\n",
    "$$\\begin{cases} x_1 + 2x_2 + 3x_3 + 4x_4 = 5 \\\\ 2x_1 + x_2 + 2x_3 + 3x_4 = 1 \\\\ 3x_1 + 2x_2 + x_3 + 2x_4 = 1 \\\\ 4x_1 + 3x_2 + 2x_3 + x_4 = -5 \\end{cases} $$\n",
    "$ Розв’язати \\ систему \\ за \\ допомогою \\ формул \\ Крамера \\ і \\ виконати \\ перевірку \\ за \\ допомогою:\n",
    " \\\\ a) \\ матричного \\ множення;\n",
    " \\\\ b) \\ оберненої \\ матриці; \n",
    " \\\\c) \\ функції \\ numpy.linalg.solve().\\\\\n",
    "Порівняти \\ всі \\ рішення \\ за \\ допомогою \\ функції \\ numpy.allclose()$"
   ]
  },
  {
   "cell_type": "code",
   "execution_count": 20,
   "metadata": {
    "execution": {
     "iopub.execute_input": "2021-12-15T22:11:20.631113Z",
     "iopub.status.busy": "2021-12-15T22:11:20.630759Z",
     "iopub.status.idle": "2021-12-15T22:11:20.644476Z",
     "shell.execute_reply": "2021-12-15T22:11:20.643569Z",
     "shell.execute_reply.started": "2021-12-15T22:11:20.631080Z"
    }
   },
   "outputs": [
    {
     "name": "stdout",
     "output_type": "stream",
     "text": [
      "[-2.0, 2.0, -3.0, 3.0]\n"
     ]
    }
   ],
   "source": [
    "#КРАМЕРА\n",
    "from numpy import linalg\n",
    " \n",
    "A=[[1, 2, 3, 4], [2, 1, 2, 3], [3, 2, 1,2], [4, 3, 2, 1]]\n",
    "B=[5, 1, 1, -5]\n",
    "C=[[1, 2, 3, 4], [2, 1, 2, 3], [3, 2, 1,2], [4, 3, 2, 1]]\n",
    "X1=[]\n",
    "for i in range(0,len(B)):\n",
    "    for j in range(0,len(B)):\n",
    "        C[j][i]=B[j]\n",
    "        if i>0:\n",
    "            C[j][i-1]=A[j][i-1]\n",
    "    X1.append(round(linalg.det(C)/linalg.det(A),1))\n",
    " \n",
    "print(X1)\n"
   ]
  },
  {
   "cell_type": "code",
   "execution_count": 35,
   "metadata": {
    "execution": {
     "iopub.execute_input": "2021-12-15T22:11:20.646949Z",
     "iopub.status.busy": "2021-12-15T22:11:20.646555Z",
     "iopub.status.idle": "2021-12-15T22:11:20.673665Z",
     "shell.execute_reply": "2021-12-15T22:11:20.672489Z",
     "shell.execute_reply.started": "2021-12-15T22:11:20.646904Z"
    }
   },
   "outputs": [
    {
     "name": "stdout",
     "output_type": "stream",
     "text": [
      "[[1 2 3 4]\n",
      " [2 1 2 3]\n",
      " [3 2 1 2]\n",
      " [4 3 2 1]]\n",
      "[[ 5]\n",
      " [ 1]\n",
      " [ 1]\n",
      " [-5]]\n",
      "[-2.  2. -3.  3.]\n"
     ]
    }
   ],
   "source": [
    "#Перевірка за допомогою матричного перемноження\n",
    "A=[[1, 2, 3, 4], [2, 1, 2, 3], [3, 2, 1,2], [4, 3, 2, 1]]\n",
    "\n",
    "B=[5, 1, 1, -5]\n",
    "X2 = np.dot(B,np.linalg.inv(A))\n",
    "print(np.reshape(A,(4,4)))\n",
    "print(np.reshape(B,(4,1)))\n",
    "print(X2)"
   ]
  },
  {
   "cell_type": "code",
   "execution_count": 36,
   "metadata": {
    "execution": {
     "iopub.execute_input": "2021-12-15T22:11:20.675880Z",
     "iopub.status.busy": "2021-12-15T22:11:20.675250Z",
     "iopub.status.idle": "2021-12-15T22:11:20.688398Z",
     "shell.execute_reply": "2021-12-15T22:11:20.687130Z",
     "shell.execute_reply.started": "2021-12-15T22:11:20.675830Z"
    }
   },
   "outputs": [
    {
     "name": "stdout",
     "output_type": "stream",
     "text": [
      "[-2.  2. -3.  3.]\n"
     ]
    }
   ],
   "source": [
    "#Перевірка за допомогою функції numpy.linalg.solve()\n",
    "Z = np.array([[1, 2, 3, 4], [2, 1, 2, 3], [3, 2, 1,2], [4, 3, 2, 1]])\n",
    "b = np.array([5, 1, 1, -5])\n",
    "X3 = np.linalg.solve(Z, b)\n",
    "print(X3)"
   ]
  },
  {
   "cell_type": "code",
   "execution_count": 37,
   "metadata": {
    "execution": {
     "iopub.execute_input": "2021-12-15T22:11:20.691827Z",
     "iopub.status.busy": "2021-12-15T22:11:20.691047Z",
     "iopub.status.idle": "2021-12-15T22:11:20.700010Z",
     "shell.execute_reply": "2021-12-15T22:11:20.699154Z",
     "shell.execute_reply.started": "2021-12-15T22:11:20.691756Z"
    }
   },
   "outputs": [
    {
     "data": {
      "text/plain": [
       "True"
      ]
     },
     "execution_count": 37,
     "metadata": {},
     "output_type": "execute_result"
    }
   ],
   "source": [
    "np.allclose(X1,X2)"
   ]
  },
  {
   "cell_type": "code",
   "execution_count": 38,
   "metadata": {
    "execution": {
     "iopub.execute_input": "2021-12-15T23:20:37.128324Z",
     "iopub.status.busy": "2021-12-15T23:20:37.127655Z",
     "iopub.status.idle": "2021-12-15T23:20:37.134674Z",
     "shell.execute_reply": "2021-12-15T23:20:37.133863Z",
     "shell.execute_reply.started": "2021-12-15T23:20:37.128276Z"
    }
   },
   "outputs": [
    {
     "data": {
      "text/latex": [
       "$$Обчислити \\ значення \\ матричного \\ виразу \\\n",
       "2(A-B)(A^2+B), \\ де$$\n",
       "$$A = \n",
       "\\begin{pmatrix}\n",
       "5 & 1 & 7 \\\\\n",
       "-10 & -2 & 1 \\\\\n",
       "0 & 1 & 2\n",
       "\\end{pmatrix}\n",
       "B = \n",
       "\\begin{pmatrix}\n",
       "2 & 4 & 1 \\\\\n",
       "3 & 1 & 0 \\\\\n",
       "7 & 2 & 1\n",
       "\\end{pmatrix}$$\n"
      ],
      "text/plain": [
       "<IPython.core.display.Latex object>"
      ]
     },
     "metadata": {},
     "output_type": "display_data"
    }
   ],
   "source": [
    "%%latex\n",
    "$$Обчислити \\ значення \\ матричного \\ виразу \\\n",
    "2(A-B)(A^2+B), \\ де$$\n",
    "$$A = \n",
    "\\begin{pmatrix}\n",
    "5 & 1 & 7 \\\\\n",
    "-10 & -2 & 1 \\\\\n",
    "0 & 1 & 2\n",
    "\\end{pmatrix}\n",
    "B = \n",
    "\\begin{pmatrix}\n",
    "2 & 4 & 1 \\\\\n",
    "3 & 1 & 0 \\\\\n",
    "7 & 2 & 1\n",
    "\\end{pmatrix}$$\n"
   ]
  },
  {
   "cell_type": "code",
   "execution_count": 39,
   "metadata": {
    "execution": {
     "iopub.execute_input": "2021-12-15T23:54:32.248561Z",
     "iopub.status.busy": "2021-12-15T23:54:32.247990Z",
     "iopub.status.idle": "2021-12-15T23:54:34.173748Z",
     "shell.execute_reply": "2021-12-15T23:54:34.172706Z",
     "shell.execute_reply.started": "2021-12-15T23:54:32.248525Z"
    }
   },
   "outputs": [
    {
     "name": "stdout",
     "output_type": "stream",
     "text": [
      "[[ 228  132  798]\n",
      " [-286 -336 -894]\n",
      " [-190 -184 -562]]\n"
     ]
    }
   ],
   "source": [
    "#%%timeit\n",
    "A = np.array([[5,1,7],[-10,-2,1],[0,1,2]])\n",
    "B = np.array([[2,4,1],[3,1,0],[7,2,1]])\n",
    "X=np.dot(2*(A-B),(np.dot(A,A)+B))\n",
    "print(X)"
   ]
  },
  {
   "cell_type": "code",
   "execution_count": 40,
   "metadata": {
    "execution": {
     "iopub.execute_input": "2021-12-15T23:54:24.726509Z",
     "iopub.status.busy": "2021-12-15T23:54:24.726133Z",
     "iopub.status.idle": "2021-12-15T23:54:27.578484Z",
     "shell.execute_reply": "2021-12-15T23:54:27.577563Z",
     "shell.execute_reply.started": "2021-12-15T23:54:24.726474Z"
    }
   },
   "outputs": [
    {
     "name": "stdout",
     "output_type": "stream",
     "text": [
      "[[228, 132, 798], [-286, -336, -894], [-190, -184, -562]]\n"
     ]
    },
    {
     "data": {
      "text/plain": [
       "True"
      ]
     },
     "execution_count": 40,
     "metadata": {},
     "output_type": "execute_result"
    }
   ],
   "source": [
    "#%%timeit\n",
    "A = [[5,1,7],[-10,-2,1],[0,1,2]]\n",
    "B = [[2,4,1],[3,1,0],[7,2,1]]\n",
    "C = [ [ 1 for i in range(3) ] for j in range(3) ]\n",
    "C2 = [ [ 0 for i in range(3) ] for j in range(3) ]\n",
    "C3 = [ [ 0 for i in range(3) ] for j in range(3) ]\n",
    "res = [ [ 0 for i in range(3) ] for j in range(3) ]\n",
    "for i in range(0,3):\n",
    "    for j in range(0,3):\n",
    "        C[i][j] = 2*(A[i][j]-B[i][j])\n",
    "for i in range(3):\n",
    "    for j in range(3):\n",
    "        for k in range(3):\n",
    "            C2[i][j] += A[i][k] * A[k][j]\n",
    "for i in range(0,3):\n",
    "    for j in range(0,3):\n",
    "        C3[i][j] = C2[i][j]+B[i][j]\n",
    "for i in range(3):\n",
    "    for j in range(3):\n",
    "        for k in range(3):\n",
    "            res[i][j] += C[i][k] * C3[k][j]\n",
    "print(res)\n",
    "np.allclose(X,res)"
   ]
  },
  {
   "cell_type": "code",
   "execution_count": null,
   "metadata": {},
   "outputs": [],
   "source": []
  }
 ],
 "metadata": {
  "kernelspec": {
   "display_name": "Python 3 (ipykernel)",
   "language": "python",
   "name": "python3"
  },
  "language_info": {
   "codemirror_mode": {
    "name": "ipython",
    "version": 3
   },
   "file_extension": ".py",
   "mimetype": "text/x-python",
   "name": "python",
   "nbconvert_exporter": "python",
   "pygments_lexer": "ipython3",
   "version": "3.9.7"
  }
 },
 "nbformat": 4,
 "nbformat_minor": 4
}
