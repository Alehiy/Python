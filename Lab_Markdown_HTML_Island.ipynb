{
 "cells": [
  {
   "cell_type": "markdown",
   "metadata": {},
   "source": [
    "<h1><center><div class = \"alert alert-block alert-success\">Ісландія</div></center></h1>"
   ]
  },
  {
   "cell_type": "markdown",
   "metadata": {},
   "source": [
    "## Площадь\n",
    "Площадь <span style = \"color:red;\">Исландии </span>составляет **103 125 км²**.\n",
    "## Население\n",
    "Население<span style = \"color:red;\"> Исландии</span> на **2020г.** составляет: **366 425** жителей.\n",
    "## Государственный устрой\n",
    "Исландия по форме государственного устройства является парламентской республикой. \n",
    "## Известные личности\n",
    "### Бьорк Гудмундсдоттир\n",
    "Творческий и многогранный человек - певица, актриса, музыкант, композитор и автор песен, лауреат множества премий.\n",
    "### Балтазар Кормакур\n",
    "Балтазар выступил режиссером, сценаристом, актером и продюсером фильма *«101 Рейкьявик»*, который получил множество наград и теплые отзывы критиков. Режиссер имеет тесные профессиональные отношения с американским актером Марком Уолбергом с которым у него вышел хороший тандем в фильмах *«Контрабанда»* и *«Два ствола»*.\n",
    "## Административное деление Исландии \n",
    "<table>\n",
    "    <thead>\n",
    "        <tr>\n",
    "            <th colspan=\"1\"><center>Регион</center></th>\n",
    "            <th colspan=\"1\"><center>Оригинальное название</center></th>\n",
    "            <th colspan=\"1\"><center>Административный центр</center></th>\n",
    "        </tr>\n",
    "    </thead>\n",
    "    <tbody>\n",
    "        <tr>\n",
    "            <td><center>Хёвюдборгарсвайдид</center></td>\n",
    "            <td><center>Höfuðborgarsvæðið</center></td>\n",
    "            <td><center>Рейкьявик</center></td>\n",
    "        </tr>\n",
    "        <tr>\n",
    "            <td><center>Сюдюрнес</center></td>\n",
    "            <td><center>Suðurnes</center></td>\n",
    "            <td><center>Кеблавик</center></td>\n",
    "        </tr>\n",
    "        <tr>\n",
    "            <td><center>Вестюрланд</center></td>\n",
    "            <td><center>Vesturland</center></td>\n",
    "            <td><center>Боргарнес</center></td>\n",
    "        </tr>\n",
    "        <tr>\n",
    "            <td><center>Вестфирдир</center></td>\n",
    "            <td><center>Vestfirðir</center></td>\n",
    "            <td><center>Исафьордюр</center></td>\n",
    "        </tr>\n",
    "        <tr>\n",
    "            <td><center>Нордюрланд-Вестра</center></td>\n",
    "            <td><center>Norðurland Vestra</center></td>\n",
    "            <td><center>Сёйдауркроукюр</center></td>\n",
    "        </tr>\n",
    "    </tbody>\n",
    "</table>\n",
    "\n",
    "## Фильмы\n",
    "* Драмы: «Жизнь на виду» (2014).\n",
    "* Триллер: «Непогребённые кости» (2014). Совместный фильм США и Исландии «No Such Thing[en]» (2001).\n",
    "* Сериалы: «Ловушка/Капкан» (2015), «Скала» (2009), «Лавовое поле» (2014) — сериалы про следователя Хельге; мини-сериал «Загадка острова Флатей» (2018).\n",
    "\n",
    "## Картинка\n",
    "[<img src=\"https://upload.wikimedia.org/wikipedia/commons/thumb/c/c3/Regions_of_Iceland.png/375px-Regions_of_Iceland.png\">](http://google.com.au/)\n",
    "\n",
    "<img src= \"1.jpg\">\n",
    "\n",
    "## Ссылка\n",
    "__Википедия(https://ru.wikipedia.org/wiki/%D0%98%D1%81%D0%BB%D0%B0%D0%BD%D0%B4%D0%B8%D1%8F)__\n",
    "\n"
   ]
  },
  {
   "cell_type": "code",
   "execution_count": 3,
   "metadata": {
    "execution": {
     "iopub.execute_input": "2021-12-17T19:58:34.202011Z",
     "iopub.status.busy": "2021-12-17T19:58:34.201322Z",
     "iopub.status.idle": "2021-12-17T19:58:34.207292Z",
     "shell.execute_reply": "2021-12-17T19:58:34.206448Z",
     "shell.execute_reply.started": "2021-12-17T19:58:34.201973Z"
    }
   },
   "outputs": [
    {
     "data": {
      "text/html": [
       "<svg xmlns=\"http://www.w3.org/2000/svg\" id=\"flag-icons-is\" viewBox=\"0 30 410 180\"><defs><clipPath id=\"is-a\"><path fill-opacity=\".7\" d=\"M85.4 0h486v486h-486z\"/></clipPath></defs><g fill-rule=\"evenodd\" stroke-width=\"0\" clip-path=\"url(#is-a)\" transform=\"translate(-10) scale(0.5)\"><path fill=\"#003897\" d=\"M0 0h675v486H0z\"/><path fill=\"#fff\" d=\"M0 210h210V0h80v210h378v80H290v189H210V290H0V189z\"/><path fill=\"#d72828\" d=\"M0 230h230V0h40v230h405v40H270v216h-40V270H0v-54z\"/></g></svg>"
      ],
      "text/plain": [
       "<IPython.core.display.HTML object>"
      ]
     },
     "metadata": {},
     "output_type": "display_data"
    }
   ],
   "source": [
    "from IPython.core.display import display, HTML\n",
    "display(HTML('<svg xmlns=\"http://www.w3.org/2000/svg\" id=\"flag-icons-is\" viewBox=\"0 30 410 180\"><defs><clipPath id=\"is-a\"><path fill-opacity=\".7\" d=\"M85.4 0h486v486h-486z\"/></clipPath></defs><g fill-rule=\"evenodd\" stroke-width=\"0\" clip-path=\"url(#is-a)\" transform=\"translate(-10) scale(0.5)\"><path fill=\"#003897\" d=\"M0 0h675v486H0z\"/><path fill=\"#fff\" d=\"M0 210h210V0h80v210h378v80H290v189H210V290H0V189z\"/><path fill=\"#d72828\" d=\"M0 230h230V0h40v230h405v40H270v216h-40V270H0v-54z\"/></g></svg>'))"
   ]
  },
  {
   "cell_type": "code",
   "execution_count": 1,
   "metadata": {
    "execution": {
     "iopub.execute_input": "2021-12-17T22:56:42.476712Z",
     "iopub.status.busy": "2021-12-17T22:56:42.476311Z",
     "iopub.status.idle": "2021-12-17T22:56:42.487437Z",
     "shell.execute_reply": "2021-12-17T22:56:42.486490Z",
     "shell.execute_reply.started": "2021-12-17T22:56:42.476681Z"
    }
   },
   "outputs": [
    {
     "name": "stdout",
     "output_type": "stream",
     "text": [
      "0|100000\n",
      "1|1010.01\n"
     ]
    }
   ],
   "source": [
    "#Реализовать алгоритм перевода чисел (целых и с плавающей точкой) из десятичной системы исчисления в двоичную\n",
    "def DecimalToBinary(num):\n",
    "    if num<0:\n",
    "        num=num*-1\n",
    "        print(\"1|\", end = '')\n",
    "    if (num > 1):\n",
    "        DecimalToBinary(num // 2)\n",
    "    print(num % 2, end = '')\n",
    "\n",
    "def float_bin(number):\n",
    "    whole = str(number).split(\".\")\n",
    "    whole1 = int(whole[0])\n",
    "    if(len(whole))==1:\n",
    "        if(whole1>0):\n",
    "            print(\"0|\",end='')\n",
    "        #return(bin(whole1))\n",
    "            DecimalToBinary(whole1)\n",
    "            return ''\n",
    "        DecimalToBinary(whole1)\n",
    "        return''\n",
    "    dec = str(number).split(\".\")\n",
    "    places = int(len(dec[1]))\n",
    "\n",
    "    dec1 = int (dec[1])\n",
    "    res = \"0|\" + bin(whole1).lstrip('0b') + \".\"\n",
    "    if(whole1)<0:\n",
    "        res = \"1|\" + bin(whole1).lstrip('-0b') + \".\"\n",
    "\n",
    "    for x in range(places):\n",
    "        dec = (decimal_converter(dec1)) * 2\n",
    "        whole1 = int(dec)\n",
    "        dec2 = str(dec).split(\".\")\n",
    "        dec1=int(dec2[1])\n",
    "        res += str(whole1)\n",
    "\n",
    "    return res\n",
    "\n",
    "def decimal_converter(num):\n",
    "    while num > 1:\n",
    "        num /= 10\n",
    "    return num\n",
    "\n",
    "#Ввод\n",
    "n = 32\n",
    "print(float_bin(n))\n",
    "n = -10.25\n",
    "print(float_bin(n))"
   ]
  },
  {
   "cell_type": "code",
   "execution_count": 271,
   "metadata": {
    "execution": {
     "iopub.execute_input": "2021-12-17T22:42:48.475664Z",
     "iopub.status.busy": "2021-12-17T22:42:48.475412Z",
     "iopub.status.idle": "2021-12-17T22:42:48.480373Z",
     "shell.execute_reply": "2021-12-17T22:42:48.479705Z",
     "shell.execute_reply.started": "2021-12-17T22:42:48.475637Z"
    }
   },
   "outputs": [],
   "source": []
  },
  {
   "cell_type": "code",
   "execution_count": null,
   "metadata": {},
   "outputs": [],
   "source": []
  }
 ],
 "metadata": {
  "kernelspec": {
   "display_name": "Python 3 (ipykernel)",
   "language": "python",
   "name": "python3"
  },
  "language_info": {
   "codemirror_mode": {
    "name": "ipython",
    "version": 3
   },
   "file_extension": ".py",
   "mimetype": "text/x-python",
   "name": "python",
   "nbconvert_exporter": "python",
   "pygments_lexer": "ipython3",
   "version": "3.9.7"
  }
 },
 "nbformat": 4,
 "nbformat_minor": 4
}
